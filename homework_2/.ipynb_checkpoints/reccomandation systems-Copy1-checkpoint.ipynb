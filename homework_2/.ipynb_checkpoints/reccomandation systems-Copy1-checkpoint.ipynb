{
 "cells": [
  {
   "cell_type": "code",
   "execution_count": 79,
   "metadata": {
    "collapsed": true
   },
   "outputs": [],
   "source": [
    "import pandas as pd"
   ]
  },
  {
   "cell_type": "code",
   "execution_count": 80,
   "metadata": {
    "collapsed": false
   },
   "outputs": [],
   "source": [
    "users = pd.read_csv('BX-Users.csv', sep=';', encoding='latin-1')"
   ]
  },
  {
   "cell_type": "code",
   "execution_count": 82,
   "metadata": {
    "collapsed": false
   },
   "outputs": [],
   "source": [
    "users=users.head(2000)"
   ]
  },
  {
   "cell_type": "code",
   "execution_count": 83,
   "metadata": {
    "collapsed": false
   },
   "outputs": [],
   "source": [
    "users['loc']=''"
   ]
  },
  {
   "cell_type": "code",
   "execution_count": 84,
   "metadata": {
    "collapsed": false
   },
   "outputs": [],
   "source": [
    "for i in range(users.shape[0]):\n",
    "    #print(i)\n",
    "    users.iloc[i,3]=users.Location[i].split(',')[-1]"
   ]
  },
  {
   "cell_type": "code",
   "execution_count": 87,
   "metadata": {
    "collapsed": false
   },
   "outputs": [
    {
     "data": {
      "text/html": [
       "<div>\n",
       "<table border=\"1\" class=\"dataframe\">\n",
       "  <thead>\n",
       "    <tr style=\"text-align: right;\">\n",
       "      <th></th>\n",
       "      <th>User-ID</th>\n",
       "      <th>Location</th>\n",
       "      <th>Age</th>\n",
       "      <th>loc</th>\n",
       "    </tr>\n",
       "  </thead>\n",
       "  <tbody>\n",
       "    <tr>\n",
       "      <th>1995</th>\n",
       "      <td>1996</td>\n",
       "      <td>sydney, new south wales, australia</td>\n",
       "      <td>34.0</td>\n",
       "      <td>australia</td>\n",
       "    </tr>\n",
       "    <tr>\n",
       "      <th>1996</th>\n",
       "      <td>1997</td>\n",
       "      <td>altoona, pennsylvania, usa</td>\n",
       "      <td>16.0</td>\n",
       "      <td>usa</td>\n",
       "    </tr>\n",
       "    <tr>\n",
       "      <th>1997</th>\n",
       "      <td>1998</td>\n",
       "      <td>tel-aviv, \\n/a\\\"), israel\"</td>\n",
       "      <td>NaN</td>\n",
       "      <td>israel\"</td>\n",
       "    </tr>\n",
       "    <tr>\n",
       "      <th>1998</th>\n",
       "      <td>1999</td>\n",
       "      <td>allston, massachusetts, usa</td>\n",
       "      <td>26.0</td>\n",
       "      <td>usa</td>\n",
       "    </tr>\n",
       "    <tr>\n",
       "      <th>1999</th>\n",
       "      <td>2000</td>\n",
       "      <td>pune, maharashtra, india</td>\n",
       "      <td>19.0</td>\n",
       "      <td>india</td>\n",
       "    </tr>\n",
       "  </tbody>\n",
       "</table>\n",
       "</div>"
      ],
      "text/plain": [
       "      User-ID                            Location   Age         loc\n",
       "1995     1996  sydney, new south wales, australia  34.0   australia\n",
       "1996     1997          altoona, pennsylvania, usa  16.0         usa\n",
       "1997     1998          tel-aviv, \\n/a\\\"), israel\"   NaN     israel\"\n",
       "1998     1999         allston, massachusetts, usa  26.0         usa\n",
       "1999     2000            pune, maharashtra, india  19.0       india"
      ]
     },
     "execution_count": 87,
     "metadata": {},
     "output_type": "execute_result"
    }
   ],
   "source": [
    "users.tail(5)"
   ]
  },
  {
   "cell_type": "code",
   "execution_count": 89,
   "metadata": {
    "collapsed": false
   },
   "outputs": [],
   "source": [
    "import numpy as np\n",
    "from sklearn.feature_extraction.text import CountVectorizer\n",
    "\n",
    "\n",
    "cv_loc=CountVectorizer(max_features=92)\n",
    "loc = cv_loc.fit_transform(users[\"loc\"])\n",
    "loc_list = [\"Location_\"+ i for i in cv_loc.get_feature_names()]\n",
    "\n",
    "cluster_data = loc.todense()\n",
    "criterion_list = loc_list "
   ]
  },
  {
   "cell_type": "code",
   "execution_count": 92,
   "metadata": {
    "collapsed": false
   },
   "outputs": [
    {
     "data": {
      "text/plain": [
       "['Location_afghanistan',\n",
       " 'Location_albania',\n",
       " 'Location_and',\n",
       " 'Location_arabia',\n",
       " 'Location_argentina',\n",
       " 'Location_australia',\n",
       " 'Location_austria',\n",
       " 'Location_basque',\n",
       " 'Location_belgium',\n",
       " 'Location_bosnia']"
      ]
     },
     "execution_count": 92,
     "metadata": {},
     "output_type": "execute_result"
    }
   ],
   "source": [
    "loc_list[:10]"
   ]
  },
  {
   "cell_type": "code",
   "execution_count": 93,
   "metadata": {
    "collapsed": false
   },
   "outputs": [],
   "source": [
    "from sklearn.cluster import KMeans\n",
    "\n",
    "mod = KMeans(n_clusters=7)\n",
    "category = mod.fit_predict(cluster_data)\n",
    "category_dataframe = pd.DataFrame({\"category\":category},index = users['loc'])"
   ]
  },
  {
   "cell_type": "code",
   "execution_count": 94,
   "metadata": {
    "collapsed": false
   },
   "outputs": [
    {
     "data": {
      "text/plain": [
       "7"
      ]
     },
     "execution_count": 94,
     "metadata": {},
     "output_type": "execute_result"
    }
   ],
   "source": [
    "max(category_dataframe.category)+1"
   ]
  },
  {
   "cell_type": "code",
   "execution_count": 95,
   "metadata": {
    "collapsed": false
   },
   "outputs": [
    {
     "name": "stdout",
     "output_type": "stream",
     "text": [
      "971\n",
      "118\n",
      "100\n",
      "103\n",
      "126\n",
      "517\n",
      "65\n"
     ]
    }
   ],
   "source": [
    "for num in range(7):    \n",
    "    print(users.ix[list(category_dataframe['category'] == num)].shape[0])"
   ]
  },
  {
   "cell_type": "code",
   "execution_count": 115,
   "metadata": {
    "collapsed": false
   },
   "outputs": [
    {
     "data": {
      "text/plain": [
       "array([' russia', ' portugal', ' brazil', '', ' mexico', ' china',\n",
       "       ' italy', ' distrito federal', ' france', ' netherlands', ' iraq',\n",
       "       ' finland', ' new zealand', ' india', ' ghana', ' switzerland',\n",
       "       ' slovenia', ' iran', ' peru', ' bosnia and herzegovina',\n",
       "       ' vietnam', ' sri lanka', ' pakistan', ' denmark', ' belgium',\n",
       "       ' malaysia', ' u.a.e', ' turkey', ' philippines', ' greece',\n",
       "       ' colombia', ' norway', ' kuwait', ' chile', ' quit', ' lj',\n",
       "       ' taiwan', ' denmark\"', ' españa', ' sweden', ' argentina',\n",
       "       ' nigeria', ' london', ' bulgaria', ' austria', ' romania',\n",
       "       ' singapore', ' albania', ' egypt', ' tunisia', ' uzbekistan',\n",
       "       ' qatar', ' syria', ' saudi arabia', ' indonesia', ' sudan',\n",
       "       ' somewherein space', ' poland', ' thailand', ' ireland',\n",
       "       ' malaysia\"', ' venezuela', ' paraguay', ' mozambique', ' morocco',\n",
       "       ' afghanistan', ' estonia', ' clackamas', '\"', ' lesotho',\n",
       "       ' yugoslavia', ' slovakia', ' costa rica', ' basque country',\n",
       "       ' british virgin islands', ' ethiopia', ' croatia', ' portugal\"',\n",
       "       ' israel', ' japan', ' israel\"'], dtype=object)"
      ]
     },
     "execution_count": 115,
     "metadata": {},
     "output_type": "execute_result"
    }
   ],
   "source": [
    "users.ix[list(category_dataframe['category'] == 5)]['loc'].unique()"
   ]
  },
  {
   "cell_type": "code",
   "execution_count": null,
   "metadata": {
    "collapsed": true
   },
   "outputs": [],
   "source": [
    "import numpy as np"
   ]
  },
  {
   "cell_type": "code",
   "execution_count": null,
   "metadata": {
    "collapsed": true
   },
   "outputs": [],
   "source": [
    "np.ma.mas"
   ]
  }
 ],
 "metadata": {
  "anaconda-cloud": {},
  "kernelspec": {
   "display_name": "Python [conda root]",
   "language": "python",
   "name": "conda-root-py"
  },
  "language_info": {
   "codemirror_mode": {
    "name": "ipython",
    "version": 3
   },
   "file_extension": ".py",
   "mimetype": "text/x-python",
   "name": "python",
   "nbconvert_exporter": "python",
   "pygments_lexer": "ipython3",
   "version": "3.5.2"
  }
 },
 "nbformat": 4,
 "nbformat_minor": 0
}
